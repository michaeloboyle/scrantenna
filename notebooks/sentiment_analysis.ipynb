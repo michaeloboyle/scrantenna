{
 "cells": [
  {
   "cell_type": "markdown",
   "metadata": {},
   "source": [
    "# Sentiment Analysis of News Articles\n",
    "This notebook performs sentiment analysis on news articles and stores the results for further analysis in the knowledge graph."
   ]
  },
  {
   "cell_type": "code",
   "execution_count": 5,
   "metadata": {},
   "outputs": [
    {
     "name": "stdout",
     "output_type": "stream",
     "text": [
      "Defaulting to user installation because normal site-packages is not writeable\n",
      "Requirement already satisfied: vaderSentiment in /Users/michaeloboyle/Library/Python/3.9/lib/python/site-packages (3.3.2)\n",
      "Requirement already satisfied: requests in /Users/michaeloboyle/Library/Python/3.9/lib/python/site-packages (from vaderSentiment) (2.31.0)\n",
      "Requirement already satisfied: charset-normalizer<4,>=2 in /Users/michaeloboyle/Library/Python/3.9/lib/python/site-packages (from requests->vaderSentiment) (2.1.1)\n",
      "Requirement already satisfied: idna<4,>=2.5 in /Users/michaeloboyle/Library/Python/3.9/lib/python/site-packages (from requests->vaderSentiment) (3.7)\n",
      "Requirement already satisfied: urllib3<3,>=1.21.1 in /Users/michaeloboyle/Library/Python/3.9/lib/python/site-packages (from requests->vaderSentiment) (2.2.1)\n",
      "Requirement already satisfied: certifi>=2017.4.17 in /Users/michaeloboyle/Library/Python/3.9/lib/python/site-packages (from requests->vaderSentiment) (2024.2.2)\n",
      "Note: you may need to restart the kernel to use updated packages.\n"
     ]
    }
   ],
   "source": [
    "%pip install vaderSentiment"
   ]
  },
  {
   "cell_type": "code",
   "execution_count": 6,
   "metadata": {},
   "outputs": [],
   "source": [
    "from vaderSentiment.vaderSentiment import SentimentIntensityAnalyzer\n",
    "import json\n",
    "import os\n",
    "\n",
    "analyzer = SentimentIntensityAnalyzer()\n",
    "DATA_DIR = './data/raw'\n",
    "SENTIMENT_DIR = './data/sentiment'\n",
    "\n",
    "def analyze_sentiment(text):\n",
    "    \"\"\"Analyze sentiment using VADER\"\"\"\n",
    "    return analyzer.polarity_scores(text)\n",
    "\n",
    "def save_sentiment(article_id, sentiment):\n",
    "    \"\"\"Save sentiment analysis results\"\"\"\n",
    "    if not os.path.exists(SENTIMENT_DIR):\n",
    "        os.makedirs(SENTIMENT_DIR)\n",
    "    with open(os.path.join(SENTIMENT_DIR, f\"sentiment_{article_id}.json\"), 'w') as f:\n",
    "        json.dump(sentiment, f)\n",
    "\n",
    "# Process all articles and analyze sentiment\n",
    "articles = []\n",
    "for file in os.listdir(DATA_DIR):\n",
    "    if file.endswith(\".json\"):\n",
    "        with open(os.path.join(DATA_DIR, file)) as f:\n",
    "            articles = json.load(f)\n",
    "            for article_id, article in enumerate(articles):\n",
    "                sentiment = analyze_sentiment(article['content'])\n",
    "                save_sentiment(article_id, sentiment)"
   ]
  }
 ],
 "metadata": {
  "kernelspec": {
   "display_name": "Python 3",
   "language": "python",
   "name": "python3"
  },
  "language_info": {
   "codemirror_mode": {
    "name": "ipython",
    "version": 3
   },
   "file_extension": ".py",
   "mimetype": "text/x-python",
   "name": "python",
   "nbconvert_exporter": "python",
   "pygments_lexer": "ipython3",
   "version": "3.9.6"
  }
 },
 "nbformat": 4,
 "nbformat_minor": 2
}
