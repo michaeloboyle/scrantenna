{
 "cells": [
  {
   "cell_type": "code",
   "execution_count": 1,
   "metadata": {},
   "outputs": [
    {
     "name": "stdout",
     "output_type": "stream",
     "text": [
      "Defaulting to user installation because normal site-packages is not writeable\n",
      "Collecting icalendar\n",
      "  Downloading icalendar-5.0.13-py3-none-any.whl.metadata (32 kB)\n",
      "Requirement already satisfied: python-dateutil in /Users/michaeloboyle/Library/Python/3.9/lib/python/site-packages (from icalendar) (2.9.0.post0)\n",
      "Requirement already satisfied: pytz in /Users/michaeloboyle/Library/Python/3.9/lib/python/site-packages (from icalendar) (2024.1)\n",
      "Requirement already satisfied: six>=1.5 in /Users/michaeloboyle/Library/Python/3.9/lib/python/site-packages (from python-dateutil->icalendar) (1.16.0)\n",
      "Downloading icalendar-5.0.13-py3-none-any.whl (118 kB)\n",
      "Installing collected packages: icalendar\n",
      "Successfully installed icalendar-5.0.13\n",
      "Note: you may need to restart the kernel to use updated packages.\n"
     ]
    }
   ],
   "source": [
    "%pip install icalendar"
   ]
  },
  {
   "cell_type": "code",
   "execution_count": 3,
   "metadata": {},
   "outputs": [
    {
     "name": "stdout",
     "output_type": "stream",
     "text": [
      "ICS file saved as LinkedIn_Post_Schedule.ics\n"
     ]
    }
   ],
   "source": [
    "from datetime import datetime, timedelta\n",
    "from icalendar import Calendar, Event\n",
    "\n",
    "# Create a function to generate a calendar event for each post\n",
    "def create_event(post_title, start_date, description):\n",
    "    event = Event()\n",
    "    event.add('summary', post_title)\n",
    "    event.add('dtstart', start_date)\n",
    "    event.add('dtend', start_date + timedelta(hours=1))\n",
    "    event.add('description', description)\n",
    "    return event\n",
    "\n",
    "# Create a calendar\n",
    "cal = Calendar()\n",
    "\n",
    "# Define start date and interval for posts (e.g., 1 week apart)\n",
    "start_date = datetime.now()\n",
    "\n",
    "# Define post details\n",
    "posts = [\n",
    "    {\n",
    "        \"title\": \"Experimenting with GitHub Actions for Data Pipelines: Lessons Learned\",\n",
    "        \"description\": \"Share experiences using GitHub Actions as a data pipeline and lessons learned.\",\n",
    "    },\n",
    "    {\n",
    "        \"title\": \"How Natural Language Processing is Driving My News Aggregator Experiment\",\n",
    "        \"description\": \"Discuss how NLP is being used for entity extraction and its applications beyond news.\",\n",
    "    },\n",
    "    {\n",
    "        \"title\": \"Can Data-Driven Approaches Help Reduce Bias in Local News?\",\n",
    "        \"description\": \"Reflect on how data-driven methods might help reduce bias in local news.\",\n",
    "    },\n",
    "    {\n",
    "        \"title\": \"Uncovering Hidden Connections in Local News with Knowledge Graphs\",\n",
    "        \"description\": \"Explain how knowledge graphs are revealing hidden connections in local news.\",\n",
    "    },\n",
    "    {\n",
    "        \"title\": \"Real-Time Monitoring of Local News: What’s Next for the Experiment?\",\n",
    "        \"description\": \"Discuss plans for real-time monitoring and alerts in the news aggregator project.\",\n",
    "    }\n",
    "]\n",
    "\n",
    "# Create events for each post, spaced 1 week apart\n",
    "for i, post in enumerate(posts):\n",
    "    post_date = start_date + timedelta(weeks=i)\n",
    "    event = create_event(post['title'], post_date, post['description'])\n",
    "    cal.add_component(event)\n",
    "\n",
    "# Save the calendar to an ICS file\n",
    "file_path = 'LinkedIn_Post_Schedule.ics'\n",
    "with open(file_path, 'wb') as f:\n",
    "    f.write(cal.to_ical())\n",
    "\n",
    "print(f\"ICS file saved as {file_path}\")"
   ]
  }
 ],
 "metadata": {
  "kernelspec": {
   "display_name": "Python 3",
   "language": "python",
   "name": "python3"
  },
  "language_info": {
   "codemirror_mode": {
    "name": "ipython",
    "version": 3
   },
   "file_extension": ".py",
   "mimetype": "text/x-python",
   "name": "python",
   "nbconvert_exporter": "python",
   "pygments_lexer": "ipython3",
   "version": "3.9.6"
  }
 },
 "nbformat": 4,
 "nbformat_minor": 2
}
