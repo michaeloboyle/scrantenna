{
 "cells": [
  {
   "cell_type": "markdown",
   "metadata": {},
   "source": [
    "# Ingest News Articles for Scrantenna\n",
    "This notebook pulls news articles from multiple sources and saves them for further processing."
   ]
  },
  {
   "cell_type": "code",
   "execution_count": 1,
   "metadata": {},
   "outputs": [
    {
     "name": "stderr",
     "output_type": "stream",
     "text": [
      "/Users/michaeloboyle/Library/Python/3.9/lib/python/site-packages/urllib3/__init__.py:35: NotOpenSSLWarning: urllib3 v2 only supports OpenSSL 1.1.1+, currently the 'ssl' module is compiled with 'LibreSSL 2.8.3'. See: https://github.com/urllib3/urllib3/issues/3020\n",
      "  warnings.warn(\n"
     ]
    },
    {
     "name": "stdout",
     "output_type": "stream",
     "text": [
      "Saved 100 articles to ./data/raw/news_20240909_181659.json\n"
     ]
    }
   ],
   "source": [
    "import requests\n",
    "import json\n",
    "import os\n",
    "from datetime import datetime\n",
    "\n",
    "# Define constants\n",
    "API_KEY = 'be93936988fd4df185bd56e8a11125a0'\n",
    "QUERY = \"Scranton\"\n",
    "DATA_DIR = \"./data/raw\"\n",
    "NEWS_URL = f\"https://newsapi.org/v2/everything?q={QUERY}&apiKey={API_KEY}\"\n",
    "\n",
    "def fetch_news():\n",
    "    \"\"\"Fetch news articles from NewsAPI\"\"\"\n",
    "    response = requests.get(NEWS_URL)\n",
    "    if response.status_code != 200:\n",
    "        raise Exception(f\"Failed to fetch news articles: {response.text}\")\n",
    "    return response.json()\n",
    "\n",
    "def save_news(articles):\n",
    "    \"\"\"Save news articles in JSON format\"\"\"\n",
    "    if not os.path.exists(DATA_DIR):\n",
    "        os.makedirs(DATA_DIR)\n",
    "    file_path = os.path.join(DATA_DIR, f\"news_{datetime.now().strftime('%Y%m%d_%H%M%S')}.json\")\n",
    "    with open(file_path, 'w') as f:\n",
    "        json.dump(articles, f, indent=4)\n",
    "    print(f\"Saved {len(articles)} articles to {file_path}\")\n",
    "\n",
    "# Fetch and save articles\n",
    "news_data = fetch_news()\n",
    "save_news(news_data.get('articles', []))"
   ]
  }
 ],
 "metadata": {
  "kernelspec": {
   "display_name": "Python 3",
   "language": "python",
   "name": "python3"
  },
  "language_info": {
   "codemirror_mode": {
    "name": "ipython",
    "version": 3
   },
   "file_extension": ".py",
   "mimetype": "text/x-python",
   "name": "python",
   "nbconvert_exporter": "python",
   "pygments_lexer": "ipython3",
   "version": "3.9.6"
  }
 },
 "nbformat": 4,
 "nbformat_minor": 2
}
